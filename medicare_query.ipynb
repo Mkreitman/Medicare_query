{
 "cells": [
  {
   "cell_type": "code",
   "execution_count": 1,
   "id": "76cea6e5-fad6-47a7-91f9-0ab76b021226",
   "metadata": {},
   "outputs": [],
   "source": [
    "import os.path\n",
    "from dotenv import load_dotenv\n",
    "import openai\n",
    "from llama_index.core import (\n",
    "    VectorStoreIndex,\n",
    "    SimpleDirectoryReader,\n",
    "    StorageContext,\n",
    "    load_index_from_storage,\n",
    ")"
   ]
  },
  {
   "cell_type": "code",
   "execution_count": 2,
   "id": "5b945519-794f-47d7-bc3e-4aef6f270785",
   "metadata": {},
   "outputs": [],
   "source": [
    "load_dotenv()\n",
    "openai.api_key = os.getenv(\"OPENAI_API_KEY\")"
   ]
  },
  {
   "cell_type": "code",
   "execution_count": 3,
   "id": "0feab5f4-7590-47d7-a84f-390eb27463cb",
   "metadata": {},
   "outputs": [],
   "source": [
    "# check if storage already exists\n",
    "PERSIST_DIR = \"./storage\"\n",
    "if not os.path.exists(PERSIST_DIR):\n",
    "    # load the documents and create the index\n",
    "    documents = SimpleDirectoryReader(\"medicare_documents\").load_data()\n",
    "    index = VectorStoreIndex.from_documents(documents)\n",
    "    # store it for later\n",
    "    index.storage_context.persist(persist_dir=PERSIST_DIR)\n",
    "else:\n",
    "    # load the existing index\n",
    "    storage_context = StorageContext.from_defaults(persist_dir=PERSIST_DIR)\n",
    "    index = load_index_from_storage(storage_context)\n"
   ]
  },
  {
   "cell_type": "code",
   "execution_count": 4,
   "id": "d5110b09-d63e-4a4b-adf4-f5b6f7a1a50d",
   "metadata": {
    "scrolled": true
   },
   "outputs": [
    {
     "name": "stdout",
     "output_type": "stream",
     "text": [
      "Pros of Medicare Advantage include having all Medicare Part A and Part B benefits in one plan, potential extra benefits like vision, hearing, and dental services, and a limit on out-of-pocket costs for covered services. Cons include the need to use doctors within the plan's network, potential requirements for plan approval before certain services are covered, and the possibility of additional premiums.\n",
      "\n",
      "Pros of traditional (supplemental) Medicare include the flexibility to use any doctor or hospital that accepts Medicare, the ability to add supplemental coverage to help with out-of-pocket costs, and the option to join a separate Medicare drug plan for prescription coverage. Cons include the potential need to shop for and buy supplemental coverage separately, the 20% coinsurance for certain services, and the lack of extra benefits like vision, hearing, and dental services that some Medicare Advantage plans may offer.\n"
     ]
    }
   ],
   "source": [
    "#query the index\n",
    "query_engine = index.as_query_engine()\n",
    "response = query_engine.query(\"What are the pros and cons of Medicare advantage \\\n",
    "and traditional (supplemental) Medicare?\")\n",
    "print(response)"
   ]
  },
  {
   "cell_type": "code",
   "execution_count": 5,
   "id": "7f354919-9587-4656-a9e0-53714de3f53a",
   "metadata": {},
   "outputs": [
    {
     "name": "stdout",
     "output_type": "stream",
     "text": [
      "Social Security benefits are considered income and are used to determine the income-related monthly adjusted amount (IRMAA) for Medicare Part D prescription drug coverage.\n"
     ]
    }
   ],
   "source": [
    "#query the index\n",
    "query_engine = index.as_query_engine()\n",
    "response = query_engine.query(\"How does Social Security affect IRMMA \\\n",
    "(income-related monthly adjusted amount)?\")\n",
    "print(response)"
   ]
  },
  {
   "cell_type": "code",
   "execution_count": 6,
   "id": "a2b12327-dd11-4614-9727-ff1d6d1d5d9c",
   "metadata": {},
   "outputs": [
    {
     "name": "stdout",
     "output_type": "stream",
     "text": [
      "You may incur a late enrollment penalty if you delay enrolling in Medicare Part D after your Initial Enrollment Period is over and experience a period of 63 or more consecutive days without Medicare drug coverage or other creditable prescription drug coverage. This penalty is a permanent addition to your Medicare drug coverage premium and typically needs to be paid for the duration of your enrollment in Medicare drug coverage.\n"
     ]
    }
   ],
   "source": [
    "#query the index\n",
    "query_engine = index.as_query_engine()\n",
    "response = query_engine.query(\"What happens if I delay Medicare Part D?\")\n",
    "print(response)"
   ]
  },
  {
   "cell_type": "code",
   "execution_count": 7,
   "id": "1d1a24b8-5b47-49c6-8743-43ffc5472440",
   "metadata": {},
   "outputs": [
    {
     "name": "stdout",
     "output_type": "stream",
     "text": [
      "You can sign up for Part A during a Special Enrollment Period while you are still covered by your employer's health plan. There are no penalties for waiting until you are no longer covered by your employer's plan as long as you enroll during the 8-month period that begins the month after your employer's health plan coverage ends or when your employment ends, whichever comes first.\n"
     ]
    }
   ],
   "source": [
    "#query the index\n",
    "query_engine = index.as_query_engine()\n",
    "response = query_engine.query(\"If I turn 65 have health insurance from my employer, \\\n",
    "when do I sign up for Part A?  Are there any penalties for waiting until I’m no \\\n",
    "longer covered by my employer’s plan?\")\n",
    "print(response)"
   ]
  },
  {
   "cell_type": "code",
   "execution_count": null,
   "id": "f733f05d-6a63-4a31-af57-7f1ef8ffb68d",
   "metadata": {},
   "outputs": [],
   "source": []
  }
 ],
 "metadata": {
  "kernelspec": {
   "display_name": "Python 3 (ipykernel)",
   "language": "python",
   "name": "python3"
  },
  "language_info": {
   "codemirror_mode": {
    "name": "ipython",
    "version": 3
   },
   "file_extension": ".py",
   "mimetype": "text/x-python",
   "name": "python",
   "nbconvert_exporter": "python",
   "pygments_lexer": "ipython3",
   "version": "3.10.8"
  }
 },
 "nbformat": 4,
 "nbformat_minor": 5
}
