{
 "cells": [
  {
   "cell_type": "code",
   "execution_count": 1,
   "id": "76cea6e5-fad6-47a7-91f9-0ab76b021226",
   "metadata": {},
   "outputs": [],
   "source": [
    "import os.path\n",
    "from dotenv import load_dotenv\n",
    "import openai\n",
    "from llama_index.core import (\n",
    "    VectorStoreIndex,\n",
    "    SimpleDirectoryReader,\n",
    "    StorageContext,\n",
    "    load_index_from_storage,\n",
    ")\n",
    "import json"
   ]
  },
  {
   "cell_type": "code",
   "execution_count": 2,
   "id": "5b945519-794f-47d7-bc3e-4aef6f270785",
   "metadata": {},
   "outputs": [],
   "source": [
    "load_dotenv()\n",
    "openai.api_key = os.getenv(\"OPENAI_API_KEY\")"
   ]
  },
  {
   "cell_type": "code",
   "execution_count": 3,
   "id": "0feab5f4-7590-47d7-a84f-390eb27463cb",
   "metadata": {},
   "outputs": [],
   "source": [
    "# check if storage already exists\n",
    "PERSIST_DIR = \"./storage\"\n",
    "if not os.path.exists(PERSIST_DIR):\n",
    "    # load the documents and create the index\n",
    "    documents = SimpleDirectoryReader(\"medicare_documents\").load_data()\n",
    "    index = VectorStoreIndex.from_documents(documents)\n",
    "    # store it for later\n",
    "    index.storage_context.persist(persist_dir=PERSIST_DIR)\n",
    "else:\n",
    "    # load the existing index\n",
    "    storage_context = StorageContext.from_defaults(persist_dir=PERSIST_DIR)\n",
    "    index = load_index_from_storage(storage_context)\n"
   ]
  },
  {
   "cell_type": "code",
   "execution_count": 5,
   "id": "d5110b09-d63e-4a4b-adf4-f5b6f7a1a50d",
   "metadata": {
    "scrolled": true
   },
   "outputs": [
    {
     "name": "stdout",
     "output_type": "stream",
     "text": [
      "Pros of Medicare Advantage include having all Medicare Part A and Part B benefits in one plan, potential extra benefits like vision, hearing, and dental services, and a limit on out-of-pocket costs for covered services. Cons include the need to use doctors within the plan's network, potential requirements for plan approval before certain services are covered, and the possibility of additional premiums.\n",
      "\n",
      "Pros of traditional (supplemental) Medicare include the flexibility to use any doctor or hospital that accepts Medicare, the ability to add supplemental coverage like Medigap for out-of-pocket costs, and the option to choose coverage from an employer, union, or Medicaid. Cons may involve potentially higher out-of-pocket costs without a limit, the need to shop for and purchase supplemental coverage separately, and the lack of extra benefits like vision, hearing, and dental services that some Medicare Advantage plans offer.\n"
     ]
    }
   ],
   "source": [
    "#query the index\n",
    "query1 = \"What are the pros and cons of Medicare advantage \\\n",
    "and traditional (supplemental) Medicare?\"\n",
    "query_engine = index.as_query_engine()\n",
    "response1 = query_engine.query(query1)\n",
    "print(response1)"
   ]
  },
  {
   "cell_type": "code",
   "execution_count": 6,
   "id": "7f354919-9587-4656-a9e0-53714de3f53a",
   "metadata": {},
   "outputs": [
    {
     "name": "stdout",
     "output_type": "stream",
     "text": [
      "Social Security does not directly affect the income-related monthly adjusted amount (IRMAA). IRMAA is determined based on an individual's reported modified adjusted gross income from two years prior, not including Social Security benefits.\n"
     ]
    }
   ],
   "source": [
    "#query the index\n",
    "query2 = \"How does Social Security affect IRMMA \\\n",
    "(income-related monthly adjusted amount)?\"\n",
    "query_engine = index.as_query_engine()\n",
    "response2 = query_engine.query(query2)\n",
    "print(response2)"
   ]
  },
  {
   "cell_type": "code",
   "execution_count": 7,
   "id": "a2b12327-dd11-4614-9727-ff1d6d1d5d9c",
   "metadata": {},
   "outputs": [
    {
     "name": "stdout",
     "output_type": "stream",
     "text": [
      "You may incur a late enrollment penalty if you delay enrolling in Medicare Part D after your Initial Enrollment Period is over and experience a period of 63 or more consecutive days without Medicare drug coverage or other creditable prescription drug coverage. This penalty is a permanent addition to your Medicare drug coverage premium and you may have to pay it for as long as you have Medicare drug coverage.\n"
     ]
    }
   ],
   "source": [
    "#query the index\n",
    "query3 = \"What happens if I delay Medicare Part D?\"\n",
    "query_engine = index.as_query_engine()\n",
    "response3 = query_engine.query(query3)\n",
    "print(response3)"
   ]
  },
  {
   "cell_type": "code",
   "execution_count": 8,
   "id": "1d1a24b8-5b47-49c6-8743-43ffc5472440",
   "metadata": {},
   "outputs": [
    {
     "name": "stdout",
     "output_type": "stream",
     "text": [
      "You can sign up for Part A during a Special Enrollment Period while you are still covered by your employer's health plan or during the 8-month period that begins the month after your employer's health plan coverage ends. There are no penalties for waiting to enroll in Part A until you are no longer covered by your employer's health plan.\n"
     ]
    }
   ],
   "source": [
    "#query the index\n",
    "query4 = \"If I turn 65 have health insurance from my employer, \\\n",
    "when do I sign up for Part A?  Are there any penalties for waiting until I’m no \\\n",
    "longer covered by my employer’s plan?\"\n",
    "query_engine = index.as_query_engine()\n",
    "response4 = query_engine.query(query4)\n",
    "print(response4)"
   ]
  },
  {
   "cell_type": "code",
   "execution_count": 20,
   "id": "ef1fe202-254d-4c48-aafa-55e2c282037a",
   "metadata": {},
   "outputs": [
    {
     "name": "stdout",
     "output_type": "stream",
     "text": [
      "Query-Response Pair 1 saved to query_response_1.txt\n",
      "Query-Response Pair 2 saved to query_response_2.txt\n",
      "Query-Response Pair 3 saved to query_response_3.txt\n",
      "Query-Response Pair 4 saved to query_response_4.txt\n"
     ]
    }
   ],
   "source": [
    "queries = [query1, query2, query3, query4]  \n",
    "responses = [response1, response2, response3, response4]  \n",
    "base_file_path = 'query_response_'  # Base path for file names\n",
    "\n",
    "for i, (query, response) in enumerate(zip(queries, responses), start=1):\n",
    "    file_path = f'{base_file_path}{i}.txt'  # Creates a unique file name for each pair\n",
    "    with open(file_path, 'w') as file:\n",
    "        file.write(f\"Query: {query}\\nResponse:\\n{str(response)}\")\n",
    "    print(f'Query-Response Pair {i} saved to {file_path}')\n"
   ]
  },
  {
   "cell_type": "code",
   "execution_count": 23,
   "id": "8daeded1-a6bd-4e11-9720-807d1637484d",
   "metadata": {},
   "outputs": [
    {
     "name": "stdout",
     "output_type": "stream",
     "text": [
      "All query-response pairs saved to all_query_responses.txt\n"
     ]
    }
   ],
   "source": [
    "queries = [query1, query2, query3, query4]\n",
    "responses = [response1, response2, response3, response4]\n",
    "file_path = 'all_query_responses.txt'\n",
    "\n",
    "with open(file_path, 'w') as file:  # Open a single file for writing\n",
    "    for i, (query, response) in enumerate(zip(queries, responses), start=1):\n",
    "        # Write each query-response pair to the same file\n",
    "        file.write(f\"Query {i}: {query}\\n\\nResponse:\\n{str(response)}\\n\\n\")\n",
    "      \n",
    "print(f'All query-response pairs saved to {file_path}')\n"
   ]
  },
  {
   "cell_type": "code",
   "execution_count": null,
   "id": "5eb30481-01f4-45fc-a483-c0c406e074bb",
   "metadata": {},
   "outputs": [],
   "source": []
  }
 ],
 "metadata": {
  "kernelspec": {
   "display_name": "Python 3 (ipykernel)",
   "language": "python",
   "name": "python3"
  },
  "language_info": {
   "codemirror_mode": {
    "name": "ipython",
    "version": 3
   },
   "file_extension": ".py",
   "mimetype": "text/x-python",
   "name": "python",
   "nbconvert_exporter": "python",
   "pygments_lexer": "ipython3",
   "version": "3.10.8"
  }
 },
 "nbformat": 4,
 "nbformat_minor": 5
}
